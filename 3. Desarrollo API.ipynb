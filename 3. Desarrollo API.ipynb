{
 "cells": [
  {
   "attachments": {},
   "cell_type": "markdown",
   "metadata": {},
   "source": [
    "aca voy a hacer las pruebas en limpio"
   ]
  },
  {
   "cell_type": "code",
   "execution_count": null,
   "metadata": {},
   "outputs": [],
   "source": [
    "from fastapi import FastAPI\n",
    "import pandas as pd\n",
    "from fastapi.responses import HTMLResponse #Utilizado para generar el formato de texto de la pagina de inicio\n",
    "import numpy as np "
   ]
  },
  {
   "cell_type": "code",
   "execution_count": null,
   "metadata": {},
   "outputs": [],
   "source": [
    "meses_es = {\n",
    "    'January': 'enero',\n",
    "    'February': 'febrero',\n",
    "    'March': 'marzo',\n",
    "    'April': 'abril',\n",
    "    'May': 'mayo',\n",
    "    'June': 'junio',\n",
    "    'July': 'julio',\n",
    "    'August': 'agosto',\n",
    "    'September': 'septiembre',\n",
    "    'October': 'octubre',\n",
    "    'November': 'noviembre',\n",
    "    'December': 'diciembre'\n",
    "}\n",
    "\n",
    "semana_es = {\n",
    "    'Monday': 'lunes',\n",
    "    'Tuesday': 'martes',\n",
    "    'Wednesday': 'miercoles',\n",
    "    'Thursday': 'jueves',\n",
    "    'Friday': 'viernes',\n",
    "    'Saturday': 'sabado',\n",
    "    'Sunday': 'domingo',\n",
    "}"
   ]
  },
  {
   "cell_type": "code",
   "execution_count": null,
   "metadata": {},
   "outputs": [],
   "source": [
    "app = FastAPI()\n",
    "\n",
    "df = pd.read_csv('/Users/ssanjua/Desktop/HENRY 2023/DataScience/DATAFT10/LABS/PI MLs/PI_ML_OPS_pau/Datasets/dataset_limpio_v2.csv')\n",
    "df['release_date'] = pd.to_datetime(df['release_date'], format='%Y-%m-%d')\n",
    "df['month_release'] = df['release_date'].apply(lambda x: meses_es[x.strftime('%B')])\n",
    "df['day_of_week_release'] = df['release_date'].apply(lambda x: semana_es[x.strftime('%A')])"
   ]
  },
  {
   "cell_type": "code",
   "execution_count": null,
   "metadata": {},
   "outputs": [],
   "source": [
    "#Creamos un directorio index con mensaje de bienvenida\n",
    "@app.get(\"/\", response_class=HTMLResponse)"
   ]
  },
  {
   "cell_type": "code",
   "execution_count": null,
   "metadata": {},
   "outputs": [],
   "source": [
    "# @app.get('/peliculas_mes/{mes}')\n",
    "def peliculas_mes(mes:str):\n",
    "    '''Se ingresa el mes y la funcion retorna la cantidad de peliculas que se estrenaron ese mes historicamente'''\n",
    "    df_mes = df[df['month_release'] == mes]\n",
    "    if df_mes.empty:\n",
    "        return {'error': 'El programa acepta los mes en español solo en minúscula, ejemplo: enero.'}\n",
    "    cantidad = len(df_mes)\n",
    "    \n",
    "    return {'mes': mes, 'cantidad': cantidad}"
   ]
  },
  {
   "cell_type": "code",
   "execution_count": null,
   "metadata": {},
   "outputs": [],
   "source": [
    "# @app.get('/peliculas_dia/{dia}')\n",
    "def peliculas_dia(dia:str):\n",
    "    '''Se ingresa el dia y la funcion retorna la cantidad de peliculas que se estrebaron ese dia historicamente'''\n",
    "    df_dia = df[df['day_of_week_release'] == dia]\n",
    "    if df_dia.empty:\n",
    "        return {'error': 'El programa acepta los días en español solo en minúscula, ejemplo: lunes.'}\n",
    "    cantidad = len(df_dia)\n",
    "    \n",
    "    return {'dia': dia, 'cantidad': cantidad}\n"
   ]
  },
  {
   "cell_type": "code",
   "execution_count": null,
   "metadata": {},
   "outputs": [],
   "source": [
    "# @app.get('/franquicia/{franquicia}')\n",
    "def franquicia(franquicia:str):\n",
    "    '''Se ingresa la franquicia, retornando la cantidad de peliculas, ganancia total y promedio'''\n",
    "    franquicia_df = df[df['belongs_to_collection'] == franquicia]\n",
    "    if franquicia_df.empty:\n",
    "        return {'error': 'La franquicia no se encuentra en el DataFrame o está mal escrita. Acordate de usar Mayusculas buscar los nombres'}\n",
    "    cantidad = len(franquicia_df)\n",
    "    ganancia_total = franquicia_df['revenue'].sum()\n",
    "    ganancia_promedio = franquicia_df['revenue'].mean() if cantidad > 0 else 0\n",
    "    \n",
    "    return {'franquicia': franquicia, 'cantidad': cantidad, 'ganancia_total': ganancia_total, 'ganancia_promedio': ganancia_promedio}"
   ]
  },
  {
   "cell_type": "code",
   "execution_count": null,
   "metadata": {},
   "outputs": [],
   "source": [
    "# @app.get('/productoras/{productora}')\n",
    "def productoras(productora:str):\n",
    "    '''Ingresas la productora, retornando la ganancia toal y la cantidad de peliculas que produjeron'''\n",
    "    productora_df = df[df['production_companies'].notna() & df['production_companies'].str.contains(productora)]\n",
    "    if productora_df.empty:\n",
    "        return {'error': 'La productora no está en el DataFrame. Acordate de usar Mayusculas buscar los nombres'}\n",
    "    ganancia_total = productora_df['revenue'].sum()\n",
    "    cantidad = len(productora_df)\n",
    "    \n",
    "    return {'productora': productora, 'ganancia_total': ganancia_total, 'cantidad': cantidad}"
   ]
  },
  {
   "cell_type": "code",
   "execution_count": null,
   "metadata": {},
   "outputs": [],
   "source": [
    "# @app.get('/retorno/{pelicula}')\n",
    "def retorno(pelicula:str):\n",
    "    '''Ingresas la pelicula, retornando la inversion, la ganancia, el retorno y \n",
    "    el año en el que se lanzo'''\n",
    "    pelicula_df = df[df['title'] == pelicula]\n",
    "    if pelicula_df.empty:\n",
    "        return {'error': 'La película no se encuentra en el DataFrame. Acordate de usar Mayusculas buscar los nombres'}\n",
    "    inversion = pelicula_df['budget'].iloc[0]\n",
    "    ganancia = pelicula_df['revenue'].iloc[0]\n",
    "    retorno = pelicula_df['return'].iloc[0]\n",
    "    anio = pelicula_df['release_date'].dt.strftime('%Y').iloc[0]\n",
    "\n",
    "    return {'pelicula':pelicula, 'inversion':inversion, 'ganancia':ganancia,'retorno':retorno, 'anio':anio}"
   ]
  },
  {
   "cell_type": "code",
   "execution_count": null,
   "metadata": {},
   "outputs": [],
   "source": [
    "# @app.get('/recomendacion/{titulo}')\n",
    "def recomendacion(titulo:str): \n",
    "    '''Ingresas un nombre de pelicula y te recomienda las similares en una lista de 5 valores\n",
    "        como es una funcion basica, los agrupe por genero, \n",
    "        la funcion devuelve una lista con las 5 primeras peliculas del genero que encuentra\n",
    "    ''' \n",
    "    pelicula_fila = df[df['title'] == titulo]\n",
    "    if pelicula_fila.empty:\n",
    "        return {'error': 'La película no se encuentra en el DataFrame. Acordate de usar Mayusculas buscar los nombres'}\n",
    "    genero = pelicula_fila['genres'].iloc[0]\n",
    "    peliculas_relacionadas = df[df['genres'] == genero]['title'].tolist()\n",
    "    peliculas_relacionadas.remove(titulo)  \n",
    "    peliculas_recomendadas = peliculas_relacionadas[:5]\n",
    "\n",
    "    return {'lista recomendada': peliculas_recomendadas}"
   ]
  },
  {
   "cell_type": "code",
   "execution_count": null,
   "metadata": {},
   "outputs": [],
   "source": []
  }
 ],
 "metadata": {
  "kernelspec": {
   "display_name": "Python 3",
   "language": "python",
   "name": "python3"
  },
  "language_info": {
   "codemirror_mode": {
    "name": "ipython",
    "version": 3
   },
   "file_extension": ".py",
   "mimetype": "text/x-python",
   "name": "python",
   "nbconvert_exporter": "python",
   "pygments_lexer": "ipython3",
   "version": "3.11.1"
  },
  "orig_nbformat": 4
 },
 "nbformat": 4,
 "nbformat_minor": 2
}
