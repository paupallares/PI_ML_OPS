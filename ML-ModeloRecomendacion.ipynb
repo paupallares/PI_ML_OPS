{
 "cells": [
  {
   "cell_type": "code",
   "execution_count": 1,
   "metadata": {},
   "outputs": [],
   "source": [
    "import pandas as pd\n",
    "import nltk\n",
    "from nltk.corpus import stopwords\n",
    "from nltk.stem import WordNetLemmatizer\n",
    "from sklearn.preprocessing import MinMaxScaler\n",
    "from sklearn.preprocessing import StandardScaler\n",
    "from sklearn.metrics.pairwise import cosine_similarity\n",
    "from sklearn.feature_extraction.text import TfidfVectorizer\n",
    "from sklearn.feature_extraction.text import CountVectorizer\n",
    "from sklearn.metrics.pairwise import cosine_similarity"
   ]
  },
  {
   "cell_type": "code",
   "execution_count": 2,
   "metadata": {},
   "outputs": [],
   "source": [
    "df = pd.read_csv('Datasets/dataset_limpio.csv')"
   ]
  },
  {
   "cell_type": "code",
   "execution_count": 4,
   "metadata": {},
   "outputs": [
    {
     "data": {
      "text/html": [
       "<div>\n",
       "<style scoped>\n",
       "    .dataframe tbody tr th:only-of-type {\n",
       "        vertical-align: middle;\n",
       "    }\n",
       "\n",
       "    .dataframe tbody tr th {\n",
       "        vertical-align: top;\n",
       "    }\n",
       "\n",
       "    .dataframe thead th {\n",
       "        text-align: right;\n",
       "    }\n",
       "</style>\n",
       "<table border=\"1\" class=\"dataframe\">\n",
       "  <thead>\n",
       "    <tr style=\"text-align: right;\">\n",
       "      <th></th>\n",
       "      <th>id</th>\n",
       "      <th>title</th>\n",
       "      <th>genres</th>\n",
       "      <th>overview</th>\n",
       "      <th>tagline</th>\n",
       "      <th>spoken_languages</th>\n",
       "      <th>decade</th>\n",
       "    </tr>\n",
       "  </thead>\n",
       "  <tbody>\n",
       "    <tr>\n",
       "      <th>0</th>\n",
       "      <td>862</td>\n",
       "      <td>Toy Story</td>\n",
       "      <td>['Animation', 'Comedy', 'Family']</td>\n",
       "      <td>Led by Woody, Andy's toys live happily in his ...</td>\n",
       "      <td></td>\n",
       "      <td>['English']</td>\n",
       "      <td>1990</td>\n",
       "    </tr>\n",
       "    <tr>\n",
       "      <th>1</th>\n",
       "      <td>8844</td>\n",
       "      <td>Jumanji</td>\n",
       "      <td>['Adventure', 'Fantasy', 'Family']</td>\n",
       "      <td>When siblings Judy and Peter discover an encha...</td>\n",
       "      <td>Roll the dice and unleash the excitement!</td>\n",
       "      <td>['English', 'Français']</td>\n",
       "      <td>1990</td>\n",
       "    </tr>\n",
       "    <tr>\n",
       "      <th>2</th>\n",
       "      <td>15602</td>\n",
       "      <td>Grumpier Old Men</td>\n",
       "      <td>['Romance', 'Comedy']</td>\n",
       "      <td>A family wedding reignites the ancient feud be...</td>\n",
       "      <td>Still Yelling. Still Fighting. Still Ready for...</td>\n",
       "      <td>['English']</td>\n",
       "      <td>1990</td>\n",
       "    </tr>\n",
       "    <tr>\n",
       "      <th>3</th>\n",
       "      <td>31357</td>\n",
       "      <td>Waiting to Exhale</td>\n",
       "      <td>['Comedy', 'Drama', 'Romance']</td>\n",
       "      <td>Cheated on, mistreated and stepped on, the wom...</td>\n",
       "      <td>Friends are the people who let you be yourself...</td>\n",
       "      <td>['English']</td>\n",
       "      <td>1990</td>\n",
       "    </tr>\n",
       "    <tr>\n",
       "      <th>4</th>\n",
       "      <td>11862</td>\n",
       "      <td>Father of the Bride Part II</td>\n",
       "      <td>['Comedy']</td>\n",
       "      <td>Just when George Banks has recovered from his ...</td>\n",
       "      <td>Just When His World Is Back To Normal... He's ...</td>\n",
       "      <td>['English']</td>\n",
       "      <td>1990</td>\n",
       "    </tr>\n",
       "  </tbody>\n",
       "</table>\n",
       "</div>"
      ],
      "text/plain": [
       "      id                        title                              genres   \n",
       "0    862                    Toy Story   ['Animation', 'Comedy', 'Family']  \\\n",
       "1   8844                      Jumanji  ['Adventure', 'Fantasy', 'Family']   \n",
       "2  15602             Grumpier Old Men               ['Romance', 'Comedy']   \n",
       "3  31357            Waiting to Exhale      ['Comedy', 'Drama', 'Romance']   \n",
       "4  11862  Father of the Bride Part II                          ['Comedy']   \n",
       "\n",
       "                                            overview   \n",
       "0  Led by Woody, Andy's toys live happily in his ...  \\\n",
       "1  When siblings Judy and Peter discover an encha...   \n",
       "2  A family wedding reignites the ancient feud be...   \n",
       "3  Cheated on, mistreated and stepped on, the wom...   \n",
       "4  Just when George Banks has recovered from his ...   \n",
       "\n",
       "                                             tagline         spoken_languages   \n",
       "0                                                                 ['English']  \\\n",
       "1          Roll the dice and unleash the excitement!  ['English', 'Français']   \n",
       "2  Still Yelling. Still Fighting. Still Ready for...              ['English']   \n",
       "3  Friends are the people who let you be yourself...              ['English']   \n",
       "4  Just When His World Is Back To Normal... He's ...              ['English']   \n",
       "\n",
       "  decade  \n",
       "0   1990  \n",
       "1   1990  \n",
       "2   1990  \n",
       "3   1990  \n",
       "4   1990  "
      ]
     },
     "execution_count": 4,
     "metadata": {},
     "output_type": "execute_result"
    }
   ],
   "source": [
    "df.head()"
   ]
  },
  {
   "cell_type": "code",
   "execution_count": 5,
   "metadata": {},
   "outputs": [
    {
     "name": "stdout",
     "output_type": "stream",
     "text": [
      "<class 'pandas.core.frame.DataFrame'>\n",
      "RangeIndex: 42196 entries, 0 to 42195\n",
      "Data columns (total 7 columns):\n",
      " #   Column            Non-Null Count  Dtype \n",
      "---  ------            --------------  ----- \n",
      " 0   id                42196 non-null  object\n",
      " 1   title             42196 non-null  object\n",
      " 2   genres            42196 non-null  object\n",
      " 3   overview          42196 non-null  object\n",
      " 4   tagline           42196 non-null  object\n",
      " 5   spoken_languages  42196 non-null  object\n",
      " 6   decade            42196 non-null  object\n",
      "dtypes: object(7)\n",
      "memory usage: 2.3+ MB\n"
     ]
    }
   ],
   "source": [
    "df.info()"
   ]
  },
  {
   "cell_type": "code",
   "execution_count": 6,
   "metadata": {},
   "outputs": [
    {
     "data": {
      "text/plain": [
       "id                  0\n",
       "title               0\n",
       "genres              0\n",
       "overview            0\n",
       "tagline             0\n",
       "spoken_languages    0\n",
       "decade              0\n",
       "dtype: int64"
      ]
     },
     "execution_count": 6,
     "metadata": {},
     "output_type": "execute_result"
    }
   ],
   "source": [
    "df.isnull().sum()"
   ]
  },
  {
   "cell_type": "code",
   "execution_count": 7,
   "metadata": {},
   "outputs": [],
   "source": [
    "#eliminación de caracteres especiales y conversión a minúsculas:\n",
    "df['overview'] = df['overview'].str.replace('[^\\w\\s]', '').str.lower().str.replace(\",\", \"\").str.replace(\".\", \"\").str.replace(\"!\", \"\")\n",
    "df['tagline'] = df['tagline'].str.replace(\"[^\\w\\s]\", \"\").str.lower().str.replace(\",\", \"\").str.replace(\".\", \"\").str.replace(\"!\", \"\")"
   ]
  },
  {
   "cell_type": "code",
   "execution_count": 8,
   "metadata": {},
   "outputs": [
    {
     "name": "stderr",
     "output_type": "stream",
     "text": [
      "[nltk_data] Downloading package stopwords to\n",
      "[nltk_data]     /Users/ssanjua/nltk_data...\n",
      "[nltk_data]   Package stopwords is already up-to-date!\n",
      "[nltk_data] Downloading package wordnet to /Users/ssanjua/nltk_data...\n",
      "[nltk_data]   Package wordnet is already up-to-date!\n"
     ]
    }
   ],
   "source": [
    "#eliminación de palabras vacías (stopwords) y lematización:\n",
    "\n",
    "nltk.download('stopwords')\n",
    "nltk.download('wordnet')\n",
    "#nltk.download('omw-1.4')\n",
    "\n",
    "stop_words = set(stopwords.words('english'))\n",
    "lemmatizer = WordNetLemmatizer()\n",
    "\n",
    "df['overview'] = df['overview'].apply(lambda x: ' '.join([lemmatizer.lemmatize(word) for word in x.split() if word not in stop_words]))\n",
    "df['tagline'] = df['tagline'].apply(lambda x: ' '.join([lemmatizer.lemmatize(word) for word in x.split() if word not in stop_words]))"
   ]
  },
  {
   "cell_type": "code",
   "execution_count": 9,
   "metadata": {},
   "outputs": [
    {
     "data": {
      "text/plain": [
       "\"led woody andy's toy live happily room andy's birthday brings buzz lightyear onto scene afraid losing place andy's heart woody plot buzz circumstance separate buzz woody owner duo eventually learns put aside difference\""
      ]
     },
     "execution_count": 9,
     "metadata": {},
     "output_type": "execute_result"
    }
   ],
   "source": [
    "df['overview'].iloc[0]"
   ]
  },
  {
   "cell_type": "code",
   "execution_count": 10,
   "metadata": {},
   "outputs": [
    {
     "data": {
      "text/plain": [
       "'roll dice unleash excitement'"
      ]
     },
     "execution_count": 10,
     "metadata": {},
     "output_type": "execute_result"
    }
   ],
   "source": [
    "df['tagline'].iloc[1]"
   ]
  },
  {
   "cell_type": "code",
   "execution_count": 11,
   "metadata": {},
   "outputs": [],
   "source": [
    "# Seleccionar los campos 'overview' y 'tagline'\n",
    "text_data = df[['overview', 'tagline']]\n",
    "# Combinar los campos en un solo texto\n",
    "df['texto_combinado'] = text_data['overview'] + ' ' + text_data['tagline']"
   ]
  },
  {
   "cell_type": "code",
   "execution_count": 12,
   "metadata": {},
   "outputs": [],
   "source": [
    "df = df.drop('overview', axis=1)\n",
    "df = df.drop('tagline', axis=1)"
   ]
  },
  {
   "cell_type": "code",
   "execution_count": 14,
   "metadata": {},
   "outputs": [
    {
     "data": {
      "text/html": [
       "<div>\n",
       "<style scoped>\n",
       "    .dataframe tbody tr th:only-of-type {\n",
       "        vertical-align: middle;\n",
       "    }\n",
       "\n",
       "    .dataframe tbody tr th {\n",
       "        vertical-align: top;\n",
       "    }\n",
       "\n",
       "    .dataframe thead th {\n",
       "        text-align: right;\n",
       "    }\n",
       "</style>\n",
       "<table border=\"1\" class=\"dataframe\">\n",
       "  <thead>\n",
       "    <tr style=\"text-align: right;\">\n",
       "      <th></th>\n",
       "      <th>id</th>\n",
       "      <th>title</th>\n",
       "      <th>genres</th>\n",
       "      <th>spoken_languages</th>\n",
       "      <th>decade</th>\n",
       "      <th>texto_combinado</th>\n",
       "    </tr>\n",
       "  </thead>\n",
       "  <tbody>\n",
       "    <tr>\n",
       "      <th>0</th>\n",
       "      <td>862</td>\n",
       "      <td>Toy Story</td>\n",
       "      <td>['Animation', 'Comedy', 'Family']</td>\n",
       "      <td>['English']</td>\n",
       "      <td>1990</td>\n",
       "      <td>led woody andy's toy live happily room andy's ...</td>\n",
       "    </tr>\n",
       "    <tr>\n",
       "      <th>1</th>\n",
       "      <td>8844</td>\n",
       "      <td>Jumanji</td>\n",
       "      <td>['Adventure', 'Fantasy', 'Family']</td>\n",
       "      <td>['English', 'Français']</td>\n",
       "      <td>1990</td>\n",
       "      <td>sibling judy peter discover enchanted board ga...</td>\n",
       "    </tr>\n",
       "    <tr>\n",
       "      <th>2</th>\n",
       "      <td>15602</td>\n",
       "      <td>Grumpier Old Men</td>\n",
       "      <td>['Romance', 'Comedy']</td>\n",
       "      <td>['English']</td>\n",
       "      <td>1990</td>\n",
       "      <td>family wedding reignites ancient feud next-doo...</td>\n",
       "    </tr>\n",
       "    <tr>\n",
       "      <th>3</th>\n",
       "      <td>31357</td>\n",
       "      <td>Waiting to Exhale</td>\n",
       "      <td>['Comedy', 'Drama', 'Romance']</td>\n",
       "      <td>['English']</td>\n",
       "      <td>1990</td>\n",
       "      <td>cheated mistreated stepped woman holding breat...</td>\n",
       "    </tr>\n",
       "    <tr>\n",
       "      <th>4</th>\n",
       "      <td>11862</td>\n",
       "      <td>Father of the Bride Part II</td>\n",
       "      <td>['Comedy']</td>\n",
       "      <td>['English']</td>\n",
       "      <td>1990</td>\n",
       "      <td>george bank recovered daughter's wedding recei...</td>\n",
       "    </tr>\n",
       "  </tbody>\n",
       "</table>\n",
       "</div>"
      ],
      "text/plain": [
       "      id                        title                              genres   \n",
       "0    862                    Toy Story   ['Animation', 'Comedy', 'Family']  \\\n",
       "1   8844                      Jumanji  ['Adventure', 'Fantasy', 'Family']   \n",
       "2  15602             Grumpier Old Men               ['Romance', 'Comedy']   \n",
       "3  31357            Waiting to Exhale      ['Comedy', 'Drama', 'Romance']   \n",
       "4  11862  Father of the Bride Part II                          ['Comedy']   \n",
       "\n",
       "          spoken_languages decade   \n",
       "0              ['English']   1990  \\\n",
       "1  ['English', 'Français']   1990   \n",
       "2              ['English']   1990   \n",
       "3              ['English']   1990   \n",
       "4              ['English']   1990   \n",
       "\n",
       "                                     texto_combinado  \n",
       "0  led woody andy's toy live happily room andy's ...  \n",
       "1  sibling judy peter discover enchanted board ga...  \n",
       "2  family wedding reignites ancient feud next-doo...  \n",
       "3  cheated mistreated stepped woman holding breat...  \n",
       "4  george bank recovered daughter's wedding recei...  "
      ]
     },
     "execution_count": 14,
     "metadata": {},
     "output_type": "execute_result"
    }
   ],
   "source": [
    "df.head()"
   ]
  },
  {
   "cell_type": "code",
   "execution_count": 15,
   "metadata": {},
   "outputs": [],
   "source": [
    "# Crear el vectorizador TF-IDF. lo limito a 50000 para que no sea tan grande\n",
    "vectorizer = TfidfVectorizer(analyzer='word', stop_words='english', max_features=50000)\n",
    "\n",
    "# Aplicar el vectorizador a los datos de texto\n",
    "tfidf_matrix = vectorizer.fit_transform(df['texto_combinado'])"
   ]
  },
  {
   "cell_type": "code",
   "execution_count": 16,
   "metadata": {},
   "outputs": [
    {
     "data": {
      "text/plain": [
       "(42196, 50000)"
      ]
     },
     "execution_count": 16,
     "metadata": {},
     "output_type": "execute_result"
    }
   ],
   "source": [
    "tfidf_matrix.shape"
   ]
  },
  {
   "cell_type": "code",
   "execution_count": 17,
   "metadata": {},
   "outputs": [],
   "source": [
    "#similaritud del coseno: \n",
    "coseno_sim_text = cosine_similarity(tfidf_matrix)"
   ]
  },
  {
   "attachments": {},
   "cell_type": "markdown",
   "metadata": {},
   "source": [
    "COUNT MATRIX"
   ]
  },
  {
   "cell_type": "code",
   "execution_count": 18,
   "metadata": {},
   "outputs": [],
   "source": [
    "#quito los espacios en los generos formados por mas de una silaba\n",
    "df['genres'] = df['genres'].str.replace(\" \", \"\")"
   ]
  },
  {
   "cell_type": "code",
   "execution_count": 19,
   "metadata": {},
   "outputs": [],
   "source": [
    "#duplico 'genres' para darle mas importancia y las uno en un campo\n",
    "df['combined_features'] = df['genres'] + df['genres'] + df['decade'] + df['spoken_languages']"
   ]
  },
  {
   "cell_type": "code",
   "execution_count": 20,
   "metadata": {},
   "outputs": [
    {
     "data": {
      "text/plain": [
       "\"['Action','Adventure','Drama','Family']['Action','Adventure','Drama','Family']1990['English', 'Deutsch']\""
      ]
     },
     "execution_count": 20,
     "metadata": {},
     "output_type": "execute_result"
    }
   ],
   "source": [
    "df['combined_features'][7]"
   ]
  },
  {
   "cell_type": "code",
   "execution_count": null,
   "metadata": {},
   "outputs": [],
   "source": [
    "df = df.drop('genres', axis=1)\n",
    "df = df.drop('decade', axis=1)\n",
    "df = df.drop('id', axis=1)\n",
    "df = df.drop('spoken_languages', axis=1)"
   ]
  },
  {
   "cell_type": "code",
   "execution_count": 27,
   "metadata": {},
   "outputs": [],
   "source": [
    "df['combined_features'] = df['combined_features'].str.replace(\"'\", \" \").str.replace(\"[\", \" \").str.replace(\"]\", \" \").str.replace(\",\", \" \").str.lower()"
   ]
  },
  {
   "cell_type": "code",
   "execution_count": 28,
   "metadata": {},
   "outputs": [
    {
     "data": {
      "text/html": [
       "<div>\n",
       "<style scoped>\n",
       "    .dataframe tbody tr th:only-of-type {\n",
       "        vertical-align: middle;\n",
       "    }\n",
       "\n",
       "    .dataframe tbody tr th {\n",
       "        vertical-align: top;\n",
       "    }\n",
       "\n",
       "    .dataframe thead th {\n",
       "        text-align: right;\n",
       "    }\n",
       "</style>\n",
       "<table border=\"1\" class=\"dataframe\">\n",
       "  <thead>\n",
       "    <tr style=\"text-align: right;\">\n",
       "      <th></th>\n",
       "      <th>title</th>\n",
       "      <th>texto_combinado</th>\n",
       "      <th>combined_features</th>\n",
       "    </tr>\n",
       "  </thead>\n",
       "  <tbody>\n",
       "    <tr>\n",
       "      <th>0</th>\n",
       "      <td>Toy Story</td>\n",
       "      <td>led woody andy's toy live happily room andy's ...</td>\n",
       "      <td>animation   comedy   family    animation   c...</td>\n",
       "    </tr>\n",
       "    <tr>\n",
       "      <th>1</th>\n",
       "      <td>Jumanji</td>\n",
       "      <td>sibling judy peter discover enchanted board ga...</td>\n",
       "      <td>adventure   fantasy   family    adventure   ...</td>\n",
       "    </tr>\n",
       "    <tr>\n",
       "      <th>2</th>\n",
       "      <td>Grumpier Old Men</td>\n",
       "      <td>family wedding reignites ancient feud next-doo...</td>\n",
       "      <td>romance   comedy    romance   comedy  1990  ...</td>\n",
       "    </tr>\n",
       "    <tr>\n",
       "      <th>3</th>\n",
       "      <td>Waiting to Exhale</td>\n",
       "      <td>cheated mistreated stepped woman holding breat...</td>\n",
       "      <td>comedy   drama   romance    comedy   drama  ...</td>\n",
       "    </tr>\n",
       "    <tr>\n",
       "      <th>4</th>\n",
       "      <td>Father of the Bride Part II</td>\n",
       "      <td>george bank recovered daughter's wedding recei...</td>\n",
       "      <td>comedy    comedy  1990  english</td>\n",
       "    </tr>\n",
       "  </tbody>\n",
       "</table>\n",
       "</div>"
      ],
      "text/plain": [
       "                         title   \n",
       "0                    Toy Story  \\\n",
       "1                      Jumanji   \n",
       "2             Grumpier Old Men   \n",
       "3            Waiting to Exhale   \n",
       "4  Father of the Bride Part II   \n",
       "\n",
       "                                     texto_combinado   \n",
       "0  led woody andy's toy live happily room andy's ...  \\\n",
       "1  sibling judy peter discover enchanted board ga...   \n",
       "2  family wedding reignites ancient feud next-doo...   \n",
       "3  cheated mistreated stepped woman holding breat...   \n",
       "4  george bank recovered daughter's wedding recei...   \n",
       "\n",
       "                                   combined_features  \n",
       "0    animation   comedy   family    animation   c...  \n",
       "1    adventure   fantasy   family    adventure   ...  \n",
       "2    romance   comedy    romance   comedy  1990  ...  \n",
       "3    comedy   drama   romance    comedy   drama  ...  \n",
       "4                  comedy    comedy  1990  english    "
      ]
     },
     "execution_count": 28,
     "metadata": {},
     "output_type": "execute_result"
    }
   ],
   "source": [
    "df.head(5)"
   ]
  },
  {
   "cell_type": "code",
   "execution_count": 31,
   "metadata": {},
   "outputs": [],
   "source": [
    "#Vectorización de texto\n",
    "vectorizer = CountVectorizer(stop_words='english')\n",
    "feature_matrix = vectorizer.fit_transform(df['combined_features'])"
   ]
  },
  {
   "cell_type": "code",
   "execution_count": 32,
   "metadata": {},
   "outputs": [
    {
     "data": {
      "text/plain": [
       "(42196, 247)"
      ]
     },
     "execution_count": 32,
     "metadata": {},
     "output_type": "execute_result"
    }
   ],
   "source": [
    "feature_matrix.shape"
   ]
  },
  {
   "cell_type": "code",
   "execution_count": 33,
   "metadata": {},
   "outputs": [],
   "source": [
    "coseno_sim_features = cosine_similarity(feature_matrix)"
   ]
  },
  {
   "cell_type": "code",
   "execution_count": 34,
   "metadata": {},
   "outputs": [],
   "source": [
    "# Combina las similitudes utilizando algún método (por ejemplo, suma ponderada)\n",
    "combined_similarity = 0.6 * coseno_sim_text + 0.4 * coseno_sim_features"
   ]
  },
  {
   "cell_type": "code",
   "execution_count": 35,
   "metadata": {},
   "outputs": [],
   "source": [
    "def get_recommendations(title):\n",
    "    titles = df['title']\n",
    "    indices = pd.Series(df.index, index=df['title'])  \n",
    "    idx = indices[title]\n",
    "    sim_scores = list(enumerate(combined_similarity[idx]))\n",
    "    sim_scores = sorted(sim_scores, key=lambda x: x[1], reverse=True)\n",
    "    sim_scores = sim_scores[1:6]  # Obtenemos las 20 películas más similares\n",
    "    movie_indices = [i[0] for i in sim_scores]\n",
    "    \n",
    "    return df['title'].iloc[movie_indices]"
   ]
  },
  {
   "cell_type": "code",
   "execution_count": 36,
   "metadata": {},
   "outputs": [
    {
     "data": {
      "text/plain": [
       "2961              Toy Story 2\n",
       "14764             Toy Story 3\n",
       "23200               Small Fry\n",
       "20865    Toy Story of Terror!\n",
       "726             A Close Shave\n",
       "Name: title, dtype: object"
      ]
     },
     "execution_count": 36,
     "metadata": {},
     "output_type": "execute_result"
    }
   ],
   "source": [
    "get_recommendations('Toy Story')"
   ]
  },
  {
   "cell_type": "code",
   "execution_count": 37,
   "metadata": {},
   "outputs": [
    {
     "data": {
      "text/plain": [
       "20145    Despicable Me 2\n",
       "5271     Stuart Little 2\n",
       "40892    Despicable Me 3\n",
       "18828     Wreck-It Ralph\n",
       "41898             Banana\n",
       "Name: title, dtype: object"
      ]
     },
     "execution_count": 37,
     "metadata": {},
     "output_type": "execute_result"
    }
   ],
   "source": [
    "get_recommendations('Minions')"
   ]
  },
  {
   "cell_type": "code",
   "execution_count": 38,
   "metadata": {},
   "outputs": [
    {
     "data": {
      "text/plain": [
       "6320     Lara Croft Tomb Raider: The Cradle of Life\n",
       "25040                                Thor: Ragnarok\n",
       "9904                                 Fantastic Four\n",
       "14579                                  Solomon Kane\n",
       "2502                                    Superman II\n",
       "Name: title, dtype: object"
      ]
     },
     "execution_count": 38,
     "metadata": {},
     "output_type": "execute_result"
    }
   ],
   "source": [
    "get_recommendations('Avatar')"
   ]
  },
  {
   "cell_type": "code",
   "execution_count": 39,
   "metadata": {},
   "outputs": [
    {
     "data": {
      "text/plain": [
       "2045      Return to Paradise\n",
       "342              Bitter Moon\n",
       "652                     Fear\n",
       "34752    Allyson Is Watching\n",
       "14595                Voyager\n",
       "Name: title, dtype: object"
      ]
     },
     "execution_count": 39,
     "metadata": {},
     "output_type": "execute_result"
    }
   ],
   "source": [
    "get_recommendations('Titanic')"
   ]
  },
  {
   "cell_type": "code",
   "execution_count": 40,
   "metadata": {},
   "outputs": [
    {
     "data": {
      "text/plain": [
       "2502                          Superman II\n",
       "10733                    Superman Returns\n",
       "30221                Atom Man vs Superman\n",
       "2504     Superman IV: The Quest for Peace\n",
       "20058                        Man of Steel\n",
       "Name: title, dtype: object"
      ]
     },
     "execution_count": 40,
     "metadata": {},
     "output_type": "execute_result"
    }
   ],
   "source": [
    "get_recommendations('Superman')"
   ]
  },
  {
   "cell_type": "code",
   "execution_count": 41,
   "metadata": {},
   "outputs": [
    {
     "data": {
      "text/plain": [
       "(42196, 3)"
      ]
     },
     "execution_count": 41,
     "metadata": {},
     "output_type": "execute_result"
    }
   ],
   "source": [
    "df.shape"
   ]
  },
  {
   "cell_type": "code",
   "execution_count": 42,
   "metadata": {},
   "outputs": [],
   "source": [
    "small_df = df.sample(n=10000, random_state=42)"
   ]
  },
  {
   "cell_type": "code",
   "execution_count": 66,
   "metadata": {},
   "outputs": [],
   "source": [
    "small_df=small_df.reset_index(drop=True)"
   ]
  },
  {
   "cell_type": "code",
   "execution_count": 91,
   "metadata": {},
   "outputs": [
    {
     "data": {
      "text/html": [
       "<div>\n",
       "<style scoped>\n",
       "    .dataframe tbody tr th:only-of-type {\n",
       "        vertical-align: middle;\n",
       "    }\n",
       "\n",
       "    .dataframe tbody tr th {\n",
       "        vertical-align: top;\n",
       "    }\n",
       "\n",
       "    .dataframe thead th {\n",
       "        text-align: right;\n",
       "    }\n",
       "</style>\n",
       "<table border=\"1\" class=\"dataframe\">\n",
       "  <thead>\n",
       "    <tr style=\"text-align: right;\">\n",
       "      <th></th>\n",
       "      <th>title</th>\n",
       "      <th>texto_combinado</th>\n",
       "      <th>combined_features</th>\n",
       "    </tr>\n",
       "  </thead>\n",
       "  <tbody>\n",
       "    <tr>\n",
       "      <th>0</th>\n",
       "      <td>The Business of Fancydancing</td>\n",
       "      <td>seymour polatkin successful gay indian poet sp...</td>\n",
       "      <td>music   drama    music   drama  2000  english</td>\n",
       "    </tr>\n",
       "    <tr>\n",
       "      <th>1</th>\n",
       "      <td>Dollman</td>\n",
       "      <td>brick bardo traveller outer space forced land ...</td>\n",
       "      <td>action   comedy   crime   sciencefiction    ...</td>\n",
       "    </tr>\n",
       "    <tr>\n",
       "      <th>2</th>\n",
       "      <td>The Dukes</td>\n",
       "      <td>dukesa doo wop group top world 17 struggling s...</td>\n",
       "      <td>comedy   crime   drama   music    comedy   c...</td>\n",
       "    </tr>\n",
       "    <tr>\n",
       "      <th>3</th>\n",
       "      <td>Dragon Wars: D-War</td>\n",
       "      <td>based korean legend unknown creature return de...</td>\n",
       "      <td>fantasy   drama   horror   action   thriller...</td>\n",
       "    </tr>\n",
       "    <tr>\n",
       "      <th>4</th>\n",
       "      <td>Tom and Huck</td>\n",
       "      <td>mischievous young boy tom sawyer witness murde...</td>\n",
       "      <td>action   adventure   drama   family    actio...</td>\n",
       "    </tr>\n",
       "    <tr>\n",
       "      <th>...</th>\n",
       "      <td>...</td>\n",
       "      <td>...</td>\n",
       "      <td>...</td>\n",
       "    </tr>\n",
       "    <tr>\n",
       "      <th>9995</th>\n",
       "      <td>Slaughterhouse</td>\n",
       "      <td>owner slaughterhouse facing foreclosure instru...</td>\n",
       "      <td>horror    horror  1980  english</td>\n",
       "    </tr>\n",
       "    <tr>\n",
       "      <th>9996</th>\n",
       "      <td>Mother's Heart</td>\n",
       "      <td>lorenz three young child victim medium wish tu...</td>\n",
       "      <td>drama    drama  1960  italiano</td>\n",
       "    </tr>\n",
       "    <tr>\n",
       "      <th>9997</th>\n",
       "      <td>Antisocial</td>\n",
       "      <td>five university friend gather house party ring...</td>\n",
       "      <td>horror   thriller    horror   thriller  2010...</td>\n",
       "    </tr>\n",
       "    <tr>\n",
       "      <th>9998</th>\n",
       "      <td>Shadows of the Dead</td>\n",
       "      <td>group teenager try escape creature life among ...</td>\n",
       "      <td>horror    horror  2010  english</td>\n",
       "    </tr>\n",
       "    <tr>\n",
       "      <th>9999</th>\n",
       "      <td>Me and Morrison</td>\n",
       "      <td>bittersweet tale love affair two people whose ...</td>\n",
       "      <td>romance    romance  2000  suomi</td>\n",
       "    </tr>\n",
       "  </tbody>\n",
       "</table>\n",
       "<p>10000 rows × 3 columns</p>\n",
       "</div>"
      ],
      "text/plain": [
       "                             title   \n",
       "0     The Business of Fancydancing  \\\n",
       "1                          Dollman   \n",
       "2                        The Dukes   \n",
       "3               Dragon Wars: D-War   \n",
       "4                     Tom and Huck   \n",
       "...                            ...   \n",
       "9995                Slaughterhouse   \n",
       "9996                Mother's Heart   \n",
       "9997                    Antisocial   \n",
       "9998           Shadows of the Dead   \n",
       "9999               Me and Morrison   \n",
       "\n",
       "                                        texto_combinado   \n",
       "0     seymour polatkin successful gay indian poet sp...  \\\n",
       "1     brick bardo traveller outer space forced land ...   \n",
       "2     dukesa doo wop group top world 17 struggling s...   \n",
       "3     based korean legend unknown creature return de...   \n",
       "4     mischievous young boy tom sawyer witness murde...   \n",
       "...                                                 ...   \n",
       "9995  owner slaughterhouse facing foreclosure instru...   \n",
       "9996  lorenz three young child victim medium wish tu...   \n",
       "9997  five university friend gather house party ring...   \n",
       "9998  group teenager try escape creature life among ...   \n",
       "9999  bittersweet tale love affair two people whose ...   \n",
       "\n",
       "                                      combined_features  \n",
       "0       music   drama    music   drama  2000  english    \n",
       "1       action   comedy   crime   sciencefiction    ...  \n",
       "2       comedy   crime   drama   music    comedy   c...  \n",
       "3       fantasy   drama   horror   action   thriller...  \n",
       "4       action   adventure   drama   family    actio...  \n",
       "...                                                 ...  \n",
       "9995                  horror    horror  1980  english    \n",
       "9996                   drama    drama  1960  italiano    \n",
       "9997    horror   thriller    horror   thriller  2010...  \n",
       "9998                  horror    horror  2010  english    \n",
       "9999                  romance    romance  2000  suomi    \n",
       "\n",
       "[10000 rows x 3 columns]"
      ]
     },
     "execution_count": 91,
     "metadata": {},
     "output_type": "execute_result"
    }
   ],
   "source": [
    "small_df"
   ]
  },
  {
   "cell_type": "code",
   "execution_count": 68,
   "metadata": {},
   "outputs": [],
   "source": [
    "# Crear el vectorizador TF-IDF. lo limito a 50000 para que no sea tan grande\n",
    "vectorizerSML = TfidfVectorizer(analyzer='word', stop_words='english', max_features=50000)\n",
    "\n",
    "# Aplicar el vectorizador a los datos de texto\n",
    "tfidf_matrixSML = vectorizerSML.fit_transform(small_df['texto_combinado'])"
   ]
  },
  {
   "cell_type": "code",
   "execution_count": 69,
   "metadata": {},
   "outputs": [
    {
     "data": {
      "text/plain": [
       "(10000, 34041)"
      ]
     },
     "execution_count": 69,
     "metadata": {},
     "output_type": "execute_result"
    }
   ],
   "source": [
    "tfidf_matrixSML.shape"
   ]
  },
  {
   "cell_type": "code",
   "execution_count": 70,
   "metadata": {},
   "outputs": [],
   "source": [
    "#similaritud del coseno: \n",
    "coseno_sim_textdSML = cosine_similarity(tfidf_matrixSML)"
   ]
  },
  {
   "cell_type": "code",
   "execution_count": 71,
   "metadata": {},
   "outputs": [],
   "source": [
    "#Vectorización de texto\n",
    "vectorizerSML_features = CountVectorizer(stop_words='english')\n",
    "feature_matrixSML = vectorizerSML_features.fit_transform(small_df['combined_features'])"
   ]
  },
  {
   "cell_type": "code",
   "execution_count": 72,
   "metadata": {},
   "outputs": [
    {
     "data": {
      "text/plain": [
       "(10000, 177)"
      ]
     },
     "execution_count": 72,
     "metadata": {},
     "output_type": "execute_result"
    }
   ],
   "source": [
    "feature_matrixSML.shape"
   ]
  },
  {
   "cell_type": "code",
   "execution_count": 73,
   "metadata": {},
   "outputs": [],
   "source": [
    "coseno_sim_featuresSML = cosine_similarity(feature_matrixSML)"
   ]
  },
  {
   "cell_type": "code",
   "execution_count": 74,
   "metadata": {},
   "outputs": [],
   "source": [
    "# Combina las similitudes utilizando algún método (por ejemplo, suma ponderada)\n",
    "combined_similaritySML = 0.6 * coseno_sim_textdSML + 0.4 * coseno_sim_featuresSML"
   ]
  },
  {
   "cell_type": "code",
   "execution_count": 75,
   "metadata": {},
   "outputs": [],
   "source": [
    "def get_recommendationsSML(title):\n",
    "    titles = df['title']\n",
    "    indices = pd.Series(df.index, index=df['title'])  \n",
    "    idx = indices[title]\n",
    "    sim_scores = list(enumerate(combined_similaritySML[idx]))\n",
    "    sim_scores = sorted(sim_scores, key=lambda x: x[1], reverse=True)\n",
    "    sim_scores = sim_scores[1:6]  # Obtenemos las 20 películas más similares\n",
    "    movie_indices = [i[0] for i in sim_scores]\n",
    "    \n",
    "    return df['title'].iloc[movie_indices]"
   ]
  },
  {
   "cell_type": "code",
   "execution_count": 77,
   "metadata": {},
   "outputs": [
    {
     "data": {
      "text/plain": [
       "879                     North by Northwest\n",
       "8460                            The Devils\n",
       "4171    Whatever Happened to Harold Smith?\n",
       "4102                        The Lost World\n",
       "4507                            Black Robe\n",
       "Name: title, dtype: object"
      ]
     },
     "execution_count": 77,
     "metadata": {},
     "output_type": "execute_result"
    }
   ],
   "source": [
    "get_recommendationsSML('Titanic')"
   ]
  },
  {
   "cell_type": "code",
   "execution_count": 89,
   "metadata": {},
   "outputs": [
    {
     "data": {
      "text/plain": [
       "429                   Cliffhanger\n",
       "2485    A Midsummer Night's Dream\n",
       "2591             The Golden Child\n",
       "6767                      Revenge\n",
       "9827              Innocent Voices\n",
       "Name: title, dtype: object"
      ]
     },
     "execution_count": 89,
     "metadata": {},
     "output_type": "execute_result"
    }
   ],
   "source": [
    "get_recommendationsSML('Toy Story')"
   ]
  },
  {
   "cell_type": "code",
   "execution_count": 106,
   "metadata": {},
   "outputs": [],
   "source": [
    "#definicion final para API:\n",
    "def recomendacion(title:str):\n",
    "    indices = pd.Series(df.index, index=df['title'])  \n",
    "    if title not in indices:\n",
    "        return \"La película no está en el dataset reducido\"\n",
    "\n",
    "    idx = indices[title]\n",
    "    vectorizer = TfidfVectorizer(analyzer='word', stop_words='english')\n",
    "    tfidf_matrix = vectorizer.fit_transform(small_df['texto_combinado'])\n",
    "    coseno_sim_text = cosine_similarity(tfidf_matrix)\n",
    "    vectorizer_features = CountVectorizer(stop_words='english')\n",
    "    feature_matrix = vectorizer_features.fit_transform(small_df['combined_features'])\n",
    "    coseno_sim_features = cosine_similarity(feature_matrix)\n",
    "    combined_similarity = 0.6 * coseno_sim_text + 0.4 * coseno_sim_features\n",
    "\n",
    "    sim_scores = list(enumerate(combined_similarity[idx]))\n",
    "    sim_scores = sorted(sim_scores, key=lambda x: x[1], reverse=True)\n",
    "    sim_scores = sim_scores[1:6]  # Obtenemos las 5 películas más similares\n",
    "    movie_indices = [i[0] for i in sim_scores]\n",
    "    recommendations=list(small_df['title'].iloc[movie_indices].str.title())\n",
    "    \n",
    "    return {'lista recomendada': recommendations} "
   ]
  },
  {
   "cell_type": "code",
   "execution_count": 107,
   "metadata": {},
   "outputs": [
    {
     "data": {
      "text/plain": [
       "'La película no está en el dataset reducido'"
      ]
     },
     "execution_count": 107,
     "metadata": {},
     "output_type": "execute_result"
    }
   ],
   "source": [
    "recomendacion('Minion')"
   ]
  },
  {
   "cell_type": "code",
   "execution_count": 108,
   "metadata": {},
   "outputs": [
    {
     "data": {
      "text/plain": [
       "{'lista recomendada': ['Winter Solstice',\n",
       "  'Hendrix',\n",
       "  'Masked And Anonymous',\n",
       "  'Passing Strange',\n",
       "  'Prey For Rock & Roll']}"
      ]
     },
     "execution_count": 108,
     "metadata": {},
     "output_type": "execute_result"
    }
   ],
   "source": [
    "recomendacion('Toy Story')"
   ]
  },
  {
   "cell_type": "code",
   "execution_count": 109,
   "metadata": {},
   "outputs": [],
   "source": [
    "#small_df.to_csv('Datasets/dataset_reducido.csv', index=False)"
   ]
  },
  {
   "cell_type": "code",
   "execution_count": 120,
   "metadata": {},
   "outputs": [],
   "source": [
    "small_df = pd.read_csv('Datasets/dataset_reducido.csv')"
   ]
  },
  {
   "cell_type": "code",
   "execution_count": 123,
   "metadata": {},
   "outputs": [],
   "source": [
    "def recomendacion2(title:str):\n",
    "    '''Ingresas un nombre de pelicula y te recomienda las similares en una lista'''\n",
    "    #small_df = pd.read_csv('../Datasets/dataset_reducido.csv')\n",
    "    indices = pd.Series(df.index, index=df['title'])  \n",
    "    if title not in indices:\n",
    "        return \"La película no está en el dataset reducido\"\n",
    "    idx = indices[title]\n",
    "    vectorizer = TfidfVectorizer(analyzer='word', stop_words='english')\n",
    "    tfidf_matrix = vectorizer.fit_transform(small_df['texto_combinado'])\n",
    "    coseno_sim_text = cosine_similarity(tfidf_matrix)\n",
    "    vectorizer_features = CountVectorizer(stop_words='english')\n",
    "    feature_matrix = vectorizer_features.fit_transform(small_df['combined_features'])\n",
    "    coseno_sim_features = cosine_similarity(feature_matrix)\n",
    "    combined_similarity = 0.6 * coseno_sim_text + 0.4 * coseno_sim_features\n",
    "\n",
    "    sim_scores = list(enumerate(combined_similarity[idx]))\n",
    "    sim_scores = sorted(sim_scores, key=lambda x: x[1], reverse=True)\n",
    "    sim_scores = sim_scores[1:6]  # Obtenemos las 5 películas más similares\n",
    "    movie_indices = [i[0] for i in sim_scores]\n",
    "    recommendations=list(small_df['title'].iloc[movie_indices].str.title())\n",
    "    \n",
    "    return {'lista recomendada': recommendations} "
   ]
  },
  {
   "cell_type": "code",
   "execution_count": 124,
   "metadata": {},
   "outputs": [
    {
     "data": {
      "text/plain": [
       "{'lista recomendada': ['Porn Star: The Legend Of Ron Jeremy',\n",
       "  'American Scary',\n",
       "  'I Knew It Was You: Rediscovering John Cazale',\n",
       "  'Cinemania',\n",
       "  'American Movie']}"
      ]
     },
     "execution_count": 124,
     "metadata": {},
     "output_type": "execute_result"
    }
   ],
   "source": [
    "recomendacion2('Titanic')"
   ]
  },
  {
   "attachments": {},
   "cell_type": "markdown",
   "metadata": {},
   "source": [
    "La siguiente etapa implica la construcción de una matriz de similitud entre las películas. Esta matriz nos ayudará a calcular la similitud entre películas y así generar recomendaciones basadas en películas similares."
   ]
  }
 ],
 "metadata": {
  "kernelspec": {
   "display_name": "Python 3",
   "language": "python",
   "name": "python3"
  },
  "language_info": {
   "codemirror_mode": {
    "name": "ipython",
    "version": 3
   },
   "file_extension": ".py",
   "mimetype": "text/x-python",
   "name": "python",
   "nbconvert_exporter": "python",
   "pygments_lexer": "ipython3",
   "version": "3.9.13"
  },
  "orig_nbformat": 4
 },
 "nbformat": 4,
 "nbformat_minor": 2
}
