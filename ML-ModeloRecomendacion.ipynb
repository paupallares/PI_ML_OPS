{
 "cells": [
  {
   "cell_type": "code",
   "execution_count": 35,
   "metadata": {},
   "outputs": [],
   "source": [
    "#importo las librerias necesarias\n",
    "\n",
    "import pandas as pd\n",
    "import nltk\n",
    "from nltk.corpus import stopwords\n",
    "from nltk.stem import WordNetLemmatizer\n",
    "from sklearn.metrics.pairwise import cosine_similarity\n",
    "from sklearn.feature_extraction.text import TfidfVectorizer\n",
    "from sklearn.feature_extraction.text import CountVectorizer\n",
    "import warnings\n",
    "warnings.filterwarnings(\"ignore\")"
   ]
  },
  {
   "cell_type": "code",
   "execution_count": 36,
   "metadata": {},
   "outputs": [],
   "source": [
    "df = pd.read_csv('Datasets/dataset_limpio.csv')"
   ]
  },
  {
   "cell_type": "code",
   "execution_count": 37,
   "metadata": {},
   "outputs": [
    {
     "data": {
      "text/html": [
       "<div>\n",
       "<style scoped>\n",
       "    .dataframe tbody tr th:only-of-type {\n",
       "        vertical-align: middle;\n",
       "    }\n",
       "\n",
       "    .dataframe tbody tr th {\n",
       "        vertical-align: top;\n",
       "    }\n",
       "\n",
       "    .dataframe thead th {\n",
       "        text-align: right;\n",
       "    }\n",
       "</style>\n",
       "<table border=\"1\" class=\"dataframe\">\n",
       "  <thead>\n",
       "    <tr style=\"text-align: right;\">\n",
       "      <th></th>\n",
       "      <th>id</th>\n",
       "      <th>title</th>\n",
       "      <th>genres</th>\n",
       "      <th>overview</th>\n",
       "      <th>tagline</th>\n",
       "      <th>spoken_languages</th>\n",
       "      <th>decade</th>\n",
       "    </tr>\n",
       "  </thead>\n",
       "  <tbody>\n",
       "    <tr>\n",
       "      <th>0</th>\n",
       "      <td>862</td>\n",
       "      <td>Toy Story</td>\n",
       "      <td>['Animation', 'Comedy', 'Family']</td>\n",
       "      <td>Led by Woody, Andy's toys live happily in his ...</td>\n",
       "      <td></td>\n",
       "      <td>['English']</td>\n",
       "      <td>1990</td>\n",
       "    </tr>\n",
       "    <tr>\n",
       "      <th>1</th>\n",
       "      <td>8844</td>\n",
       "      <td>Jumanji</td>\n",
       "      <td>['Adventure', 'Fantasy', 'Family']</td>\n",
       "      <td>When siblings Judy and Peter discover an encha...</td>\n",
       "      <td>Roll the dice and unleash the excitement!</td>\n",
       "      <td>['English', 'Français']</td>\n",
       "      <td>1990</td>\n",
       "    </tr>\n",
       "    <tr>\n",
       "      <th>2</th>\n",
       "      <td>15602</td>\n",
       "      <td>Grumpier Old Men</td>\n",
       "      <td>['Romance', 'Comedy']</td>\n",
       "      <td>A family wedding reignites the ancient feud be...</td>\n",
       "      <td>Still Yelling. Still Fighting. Still Ready for...</td>\n",
       "      <td>['English']</td>\n",
       "      <td>1990</td>\n",
       "    </tr>\n",
       "    <tr>\n",
       "      <th>3</th>\n",
       "      <td>31357</td>\n",
       "      <td>Waiting to Exhale</td>\n",
       "      <td>['Comedy', 'Drama', 'Romance']</td>\n",
       "      <td>Cheated on, mistreated and stepped on, the wom...</td>\n",
       "      <td>Friends are the people who let you be yourself...</td>\n",
       "      <td>['English']</td>\n",
       "      <td>1990</td>\n",
       "    </tr>\n",
       "    <tr>\n",
       "      <th>4</th>\n",
       "      <td>11862</td>\n",
       "      <td>Father of the Bride Part II</td>\n",
       "      <td>['Comedy']</td>\n",
       "      <td>Just when George Banks has recovered from his ...</td>\n",
       "      <td>Just When His World Is Back To Normal... He's ...</td>\n",
       "      <td>['English']</td>\n",
       "      <td>1990</td>\n",
       "    </tr>\n",
       "  </tbody>\n",
       "</table>\n",
       "</div>"
      ],
      "text/plain": [
       "      id                        title                              genres   \n",
       "0    862                    Toy Story   ['Animation', 'Comedy', 'Family']  \\\n",
       "1   8844                      Jumanji  ['Adventure', 'Fantasy', 'Family']   \n",
       "2  15602             Grumpier Old Men               ['Romance', 'Comedy']   \n",
       "3  31357            Waiting to Exhale      ['Comedy', 'Drama', 'Romance']   \n",
       "4  11862  Father of the Bride Part II                          ['Comedy']   \n",
       "\n",
       "                                            overview   \n",
       "0  Led by Woody, Andy's toys live happily in his ...  \\\n",
       "1  When siblings Judy and Peter discover an encha...   \n",
       "2  A family wedding reignites the ancient feud be...   \n",
       "3  Cheated on, mistreated and stepped on, the wom...   \n",
       "4  Just when George Banks has recovered from his ...   \n",
       "\n",
       "                                             tagline         spoken_languages   \n",
       "0                                                                 ['English']  \\\n",
       "1          Roll the dice and unleash the excitement!  ['English', 'Français']   \n",
       "2  Still Yelling. Still Fighting. Still Ready for...              ['English']   \n",
       "3  Friends are the people who let you be yourself...              ['English']   \n",
       "4  Just When His World Is Back To Normal... He's ...              ['English']   \n",
       "\n",
       "  decade  \n",
       "0   1990  \n",
       "1   1990  \n",
       "2   1990  \n",
       "3   1990  \n",
       "4   1990  "
      ]
     },
     "execution_count": 37,
     "metadata": {},
     "output_type": "execute_result"
    }
   ],
   "source": [
    "#chequeo que se importaron bien los datos\n",
    "df.head()"
   ]
  },
  {
   "cell_type": "code",
   "execution_count": 38,
   "metadata": {},
   "outputs": [
    {
     "name": "stdout",
     "output_type": "stream",
     "text": [
      "<class 'pandas.core.frame.DataFrame'>\n",
      "RangeIndex: 42196 entries, 0 to 42195\n",
      "Data columns (total 7 columns):\n",
      " #   Column            Non-Null Count  Dtype \n",
      "---  ------            --------------  ----- \n",
      " 0   id                42196 non-null  object\n",
      " 1   title             42196 non-null  object\n",
      " 2   genres            42196 non-null  object\n",
      " 3   overview          42196 non-null  object\n",
      " 4   tagline           42196 non-null  object\n",
      " 5   spoken_languages  42196 non-null  object\n",
      " 6   decade            42196 non-null  object\n",
      "dtypes: object(7)\n",
      "memory usage: 2.3+ MB\n"
     ]
    }
   ],
   "source": [
    "df.info()"
   ]
  },
  {
   "cell_type": "code",
   "execution_count": 39,
   "metadata": {},
   "outputs": [
    {
     "data": {
      "text/plain": [
       "id                  0\n",
       "title               0\n",
       "genres              0\n",
       "overview            0\n",
       "tagline             0\n",
       "spoken_languages    0\n",
       "decade              0\n",
       "dtype: int64"
      ]
     },
     "execution_count": 39,
     "metadata": {},
     "output_type": "execute_result"
    }
   ],
   "source": [
    "df.isnull().sum()"
   ]
  },
  {
   "attachments": {},
   "cell_type": "markdown",
   "metadata": {},
   "source": [
    "la idea principal es crear dos matrices, una para 'overview' y 'tagline' calculando la simiitud usando la matriz TF-IDF ya que este metodo pondera la importancia de cada palabra en relacion a todo el texto, lo que captura mejor las palabras claves o terminos especificos. \n",
    "para 'genres', 'decade' y 'spoken_languages' usar una matriz de conteo ya que esta simplemente cuenta la frecuencia de cada palabra sin tener en cuenta el resto del texto, considerando que estos datos son más cercanos a un metadato que a datos de lenguaje como si ocurre en 'overview' y 'tagline'"
   ]
  },
  {
   "attachments": {},
   "cell_type": "markdown",
   "metadata": {},
   "source": [
    "vamos a preparar los datos para crear las matrices"
   ]
  },
  {
   "cell_type": "code",
   "execution_count": 40,
   "metadata": {},
   "outputs": [],
   "source": [
    "#eliminación de caracteres especiales y conversión a minúsculas:\n",
    "df['overview'] = df['overview'].str.replace('[^\\w\\s]', '').str.lower().str.replace(\",\", \"\").str.replace(\".\", \"\").str.replace(\"!\", \"\")\n",
    "df['tagline'] = df['tagline'].str.replace(\"[^\\w\\s]\", \"\").str.lower().str.replace(\",\", \"\").str.replace(\".\", \"\").str.replace(\"!\", \"\")"
   ]
  },
  {
   "cell_type": "code",
   "execution_count": 41,
   "metadata": {},
   "outputs": [
    {
     "name": "stderr",
     "output_type": "stream",
     "text": [
      "[nltk_data] Downloading package stopwords to\n",
      "[nltk_data]     /Users/ssanjua/nltk_data...\n",
      "[nltk_data]   Package stopwords is already up-to-date!\n",
      "[nltk_data] Downloading package wordnet to /Users/ssanjua/nltk_data...\n",
      "[nltk_data]   Package wordnet is already up-to-date!\n"
     ]
    }
   ],
   "source": [
    "#eliminación de palabras vacías (stopwords) y lematización:\n",
    "nltk.download('stopwords')\n",
    "nltk.download('wordnet')\n",
    "\n",
    "#nltk.download('omw-1.4')\n",
    "stop_words = set(stopwords.words('english'))\n",
    "lemmatizer = WordNetLemmatizer()\n",
    "\n",
    "df['overview'] = df['overview'].apply(lambda x: ' '.join([lemmatizer.lemmatize(word) for word in x.split() if word not in stop_words]))\n",
    "df['tagline'] = df['tagline'].apply(lambda x: ' '.join([lemmatizer.lemmatize(word) for word in x.split() if word not in stop_words]))"
   ]
  },
  {
   "cell_type": "code",
   "execution_count": 42,
   "metadata": {},
   "outputs": [
    {
     "data": {
      "text/plain": [
       "\"led woody andy's toy live happily room andy's birthday brings buzz lightyear onto scene afraid losing place andy's heart woody plot buzz circumstance separate buzz woody owner duo eventually learns put aside difference\""
      ]
     },
     "execution_count": 42,
     "metadata": {},
     "output_type": "execute_result"
    }
   ],
   "source": [
    "df['overview'].iloc[0]"
   ]
  },
  {
   "cell_type": "code",
   "execution_count": 43,
   "metadata": {},
   "outputs": [
    {
     "data": {
      "text/plain": [
       "'roll dice unleash excitement'"
      ]
     },
     "execution_count": 43,
     "metadata": {},
     "output_type": "execute_result"
    }
   ],
   "source": [
    "df['tagline'].iloc[1]"
   ]
  },
  {
   "cell_type": "code",
   "execution_count": 44,
   "metadata": {},
   "outputs": [],
   "source": [
    "#extraccion de overview + tagline\n",
    "text_data = df[['overview', 'tagline']]\n",
    "\n",
    "#combinamos los campos en un solo texto\n",
    "df['texto_combinado'] = text_data['overview'] + ' ' + text_data['tagline']"
   ]
  },
  {
   "cell_type": "code",
   "execution_count": 45,
   "metadata": {},
   "outputs": [],
   "source": [
    "#eliminamos las columnas ya que no las necesitaremos mas\n",
    "df = df.drop('overview', axis=1)\n",
    "df = df.drop('tagline', axis=1)"
   ]
  },
  {
   "cell_type": "code",
   "execution_count": 46,
   "metadata": {},
   "outputs": [
    {
     "data": {
      "text/html": [
       "<div>\n",
       "<style scoped>\n",
       "    .dataframe tbody tr th:only-of-type {\n",
       "        vertical-align: middle;\n",
       "    }\n",
       "\n",
       "    .dataframe tbody tr th {\n",
       "        vertical-align: top;\n",
       "    }\n",
       "\n",
       "    .dataframe thead th {\n",
       "        text-align: right;\n",
       "    }\n",
       "</style>\n",
       "<table border=\"1\" class=\"dataframe\">\n",
       "  <thead>\n",
       "    <tr style=\"text-align: right;\">\n",
       "      <th></th>\n",
       "      <th>id</th>\n",
       "      <th>title</th>\n",
       "      <th>genres</th>\n",
       "      <th>spoken_languages</th>\n",
       "      <th>decade</th>\n",
       "      <th>texto_combinado</th>\n",
       "    </tr>\n",
       "  </thead>\n",
       "  <tbody>\n",
       "    <tr>\n",
       "      <th>0</th>\n",
       "      <td>862</td>\n",
       "      <td>Toy Story</td>\n",
       "      <td>['Animation', 'Comedy', 'Family']</td>\n",
       "      <td>['English']</td>\n",
       "      <td>1990</td>\n",
       "      <td>led woody andy's toy live happily room andy's ...</td>\n",
       "    </tr>\n",
       "    <tr>\n",
       "      <th>1</th>\n",
       "      <td>8844</td>\n",
       "      <td>Jumanji</td>\n",
       "      <td>['Adventure', 'Fantasy', 'Family']</td>\n",
       "      <td>['English', 'Français']</td>\n",
       "      <td>1990</td>\n",
       "      <td>sibling judy peter discover enchanted board ga...</td>\n",
       "    </tr>\n",
       "    <tr>\n",
       "      <th>2</th>\n",
       "      <td>15602</td>\n",
       "      <td>Grumpier Old Men</td>\n",
       "      <td>['Romance', 'Comedy']</td>\n",
       "      <td>['English']</td>\n",
       "      <td>1990</td>\n",
       "      <td>family wedding reignites ancient feud next-doo...</td>\n",
       "    </tr>\n",
       "    <tr>\n",
       "      <th>3</th>\n",
       "      <td>31357</td>\n",
       "      <td>Waiting to Exhale</td>\n",
       "      <td>['Comedy', 'Drama', 'Romance']</td>\n",
       "      <td>['English']</td>\n",
       "      <td>1990</td>\n",
       "      <td>cheated mistreated stepped woman holding breat...</td>\n",
       "    </tr>\n",
       "    <tr>\n",
       "      <th>4</th>\n",
       "      <td>11862</td>\n",
       "      <td>Father of the Bride Part II</td>\n",
       "      <td>['Comedy']</td>\n",
       "      <td>['English']</td>\n",
       "      <td>1990</td>\n",
       "      <td>george bank recovered daughter's wedding recei...</td>\n",
       "    </tr>\n",
       "  </tbody>\n",
       "</table>\n",
       "</div>"
      ],
      "text/plain": [
       "      id                        title                              genres   \n",
       "0    862                    Toy Story   ['Animation', 'Comedy', 'Family']  \\\n",
       "1   8844                      Jumanji  ['Adventure', 'Fantasy', 'Family']   \n",
       "2  15602             Grumpier Old Men               ['Romance', 'Comedy']   \n",
       "3  31357            Waiting to Exhale      ['Comedy', 'Drama', 'Romance']   \n",
       "4  11862  Father of the Bride Part II                          ['Comedy']   \n",
       "\n",
       "          spoken_languages decade   \n",
       "0              ['English']   1990  \\\n",
       "1  ['English', 'Français']   1990   \n",
       "2              ['English']   1990   \n",
       "3              ['English']   1990   \n",
       "4              ['English']   1990   \n",
       "\n",
       "                                     texto_combinado  \n",
       "0  led woody andy's toy live happily room andy's ...  \n",
       "1  sibling judy peter discover enchanted board ga...  \n",
       "2  family wedding reignites ancient feud next-doo...  \n",
       "3  cheated mistreated stepped woman holding breat...  \n",
       "4  george bank recovered daughter's wedding recei...  "
      ]
     },
     "execution_count": 46,
     "metadata": {},
     "output_type": "execute_result"
    }
   ],
   "source": [
    "df.head()"
   ]
  },
  {
   "cell_type": "code",
   "execution_count": 47,
   "metadata": {},
   "outputs": [],
   "source": [
    "#quito los espacios en los generos formados por mas de una silaba\n",
    "df['genres'] = df['genres'].str.replace(\" \", \"\")"
   ]
  },
  {
   "cell_type": "code",
   "execution_count": 48,
   "metadata": {},
   "outputs": [
    {
     "data": {
      "text/plain": [
       "\"['Action','Adventure','Drama','Family']['Action','Adventure','Drama','Family']1990['English', 'Deutsch']\""
      ]
     },
     "execution_count": 48,
     "metadata": {},
     "output_type": "execute_result"
    }
   ],
   "source": [
    "#duplico 'genres' para darle mas importancia y las uno en un campo\n",
    "df['combined_features'] = df['genres'] + df['genres'] + df['decade'] + df['spoken_languages']\n",
    "df['combined_features'][7]"
   ]
  },
  {
   "cell_type": "code",
   "execution_count": 49,
   "metadata": {},
   "outputs": [],
   "source": [
    "#elimino las columnas que ya no me sirven\n",
    "df = df.drop('genres', axis=1)\n",
    "df = df.drop('decade', axis=1)\n",
    "df = df.drop('id', axis=1)\n",
    "df = df.drop('spoken_languages', axis=1)"
   ]
  },
  {
   "cell_type": "code",
   "execution_count": 50,
   "metadata": {},
   "outputs": [],
   "source": [
    "#aplico algunos espacios mas para asegurarme que queden todas las palabras separadas\n",
    "df['combined_features'] = df['combined_features'].str.replace(\"'\", \" \").str.replace(\"[\", \" \").str.replace(\"]\", \" \").str.replace(\",\", \" \").str.lower()"
   ]
  },
  {
   "cell_type": "code",
   "execution_count": 51,
   "metadata": {},
   "outputs": [
    {
     "data": {
      "text/html": [
       "<div>\n",
       "<style scoped>\n",
       "    .dataframe tbody tr th:only-of-type {\n",
       "        vertical-align: middle;\n",
       "    }\n",
       "\n",
       "    .dataframe tbody tr th {\n",
       "        vertical-align: top;\n",
       "    }\n",
       "\n",
       "    .dataframe thead th {\n",
       "        text-align: right;\n",
       "    }\n",
       "</style>\n",
       "<table border=\"1\" class=\"dataframe\">\n",
       "  <thead>\n",
       "    <tr style=\"text-align: right;\">\n",
       "      <th></th>\n",
       "      <th>title</th>\n",
       "      <th>texto_combinado</th>\n",
       "      <th>combined_features</th>\n",
       "    </tr>\n",
       "  </thead>\n",
       "  <tbody>\n",
       "    <tr>\n",
       "      <th>0</th>\n",
       "      <td>Toy Story</td>\n",
       "      <td>led woody andy's toy live happily room andy's ...</td>\n",
       "      <td>animation   comedy   family    animation   c...</td>\n",
       "    </tr>\n",
       "    <tr>\n",
       "      <th>1</th>\n",
       "      <td>Jumanji</td>\n",
       "      <td>sibling judy peter discover enchanted board ga...</td>\n",
       "      <td>adventure   fantasy   family    adventure   ...</td>\n",
       "    </tr>\n",
       "    <tr>\n",
       "      <th>2</th>\n",
       "      <td>Grumpier Old Men</td>\n",
       "      <td>family wedding reignites ancient feud next-doo...</td>\n",
       "      <td>romance   comedy    romance   comedy  1990  ...</td>\n",
       "    </tr>\n",
       "    <tr>\n",
       "      <th>3</th>\n",
       "      <td>Waiting to Exhale</td>\n",
       "      <td>cheated mistreated stepped woman holding breat...</td>\n",
       "      <td>comedy   drama   romance    comedy   drama  ...</td>\n",
       "    </tr>\n",
       "    <tr>\n",
       "      <th>4</th>\n",
       "      <td>Father of the Bride Part II</td>\n",
       "      <td>george bank recovered daughter's wedding recei...</td>\n",
       "      <td>comedy    comedy  1990  english</td>\n",
       "    </tr>\n",
       "  </tbody>\n",
       "</table>\n",
       "</div>"
      ],
      "text/plain": [
       "                         title   \n",
       "0                    Toy Story  \\\n",
       "1                      Jumanji   \n",
       "2             Grumpier Old Men   \n",
       "3            Waiting to Exhale   \n",
       "4  Father of the Bride Part II   \n",
       "\n",
       "                                     texto_combinado   \n",
       "0  led woody andy's toy live happily room andy's ...  \\\n",
       "1  sibling judy peter discover enchanted board ga...   \n",
       "2  family wedding reignites ancient feud next-doo...   \n",
       "3  cheated mistreated stepped woman holding breat...   \n",
       "4  george bank recovered daughter's wedding recei...   \n",
       "\n",
       "                                   combined_features  \n",
       "0    animation   comedy   family    animation   c...  \n",
       "1    adventure   fantasy   family    adventure   ...  \n",
       "2    romance   comedy    romance   comedy  1990  ...  \n",
       "3    comedy   drama   romance    comedy   drama  ...  \n",
       "4                  comedy    comedy  1990  english    "
      ]
     },
     "execution_count": 51,
     "metadata": {},
     "output_type": "execute_result"
    }
   ],
   "source": [
    "df.head(5)"
   ]
  },
  {
   "cell_type": "code",
   "execution_count": 52,
   "metadata": {},
   "outputs": [],
   "source": [
    "#exporto como nuevo dataset para usarlo en mi modelo de ML en la API\n",
    "df.to_csv('Datasets/dataset_ML.csv', index=False)"
   ]
  },
  {
   "attachments": {},
   "cell_type": "markdown",
   "metadata": {},
   "source": [
    "creo la matriz TF-IDF con 'texto_combinado' = 'overview' + 'tagline'"
   ]
  },
  {
   "cell_type": "code",
   "execution_count": 53,
   "metadata": {},
   "outputs": [],
   "source": [
    "# Crear el vectorizador TF-IDF. lo limito a 50000 para que no sea tan grande\n",
    "vectorizer = TfidfVectorizer(analyzer='word', stop_words='english', max_features=50000)\n",
    "\n",
    "# Aplicar el vectorizador a los datos de texto\n",
    "tfidf_matrix = vectorizer.fit_transform(df['texto_combinado'])"
   ]
  },
  {
   "cell_type": "code",
   "execution_count": 54,
   "metadata": {},
   "outputs": [
    {
     "data": {
      "text/plain": [
       "(42196, 50000)"
      ]
     },
     "execution_count": 54,
     "metadata": {},
     "output_type": "execute_result"
    }
   ],
   "source": [
    "tfidf_matrix.shape"
   ]
  },
  {
   "cell_type": "code",
   "execution_count": 55,
   "metadata": {},
   "outputs": [],
   "source": [
    "#similaritud del coseno: \n",
    "coseno_sim_text = cosine_similarity(tfidf_matrix)\n",
    "\n",
    "#toma entre 35s a 50s"
   ]
  },
  {
   "attachments": {},
   "cell_type": "markdown",
   "metadata": {},
   "source": [
    "ahora creamos la matriz de conteo con 'combined_features' = 'genres' + 'decade' + 'spoken_languages'"
   ]
  },
  {
   "cell_type": "code",
   "execution_count": 56,
   "metadata": {},
   "outputs": [],
   "source": [
    "#Vectorización de texto\n",
    "vectorizer = CountVectorizer(stop_words='english')\n",
    "feature_matrix = vectorizer.fit_transform(df['combined_features'])"
   ]
  },
  {
   "cell_type": "code",
   "execution_count": 57,
   "metadata": {},
   "outputs": [
    {
     "data": {
      "text/plain": [
       "(42196, 246)"
      ]
     },
     "execution_count": 57,
     "metadata": {},
     "output_type": "execute_result"
    }
   ],
   "source": [
    "feature_matrix.shape"
   ]
  },
  {
   "cell_type": "code",
   "execution_count": 58,
   "metadata": {},
   "outputs": [],
   "source": [
    "#similaritud del coseno para esta matriz\n",
    "coseno_sim_features = cosine_similarity(feature_matrix)\n",
    "\n",
    "#tarda entre 1min y 2min"
   ]
  },
  {
   "cell_type": "code",
   "execution_count": 59,
   "metadata": {},
   "outputs": [],
   "source": [
    "#combina las similitudes utilizando suma ponderada, donde le doy más peso a el tema de la película en relación\n",
    "#a el lenguaje y la década\n",
    "combined_similarity = 0.6 * coseno_sim_text + 0.4 * coseno_sim_features\n",
    "\n",
    "#tarda mas 4min"
   ]
  },
  {
   "cell_type": "code",
   "execution_count": 60,
   "metadata": {},
   "outputs": [],
   "source": [
    "#creamos una función para nuestro sistema de recomendación\n",
    "def get_recommendations(title):\n",
    "    titles = df['title']\n",
    "    indices = pd.Series(df.index, index=df['title'])  \n",
    "    idx = indices[title]\n",
    "    sim_scores = list(enumerate(combined_similarity[idx]))\n",
    "    sim_scores = sorted(sim_scores, key=lambda x: x[1], reverse=True)\n",
    "    sim_scores = sim_scores[1:6]\n",
    "    movie_indices = [i[0] for i in sim_scores]\n",
    "    \n",
    "    return df['title'].iloc[movie_indices]"
   ]
  },
  {
   "cell_type": "code",
   "execution_count": 61,
   "metadata": {},
   "outputs": [
    {
     "data": {
      "text/plain": [
       "2961              Toy Story 2\n",
       "14764             Toy Story 3\n",
       "23200               Small Fry\n",
       "20865    Toy Story of Terror!\n",
       "726             A Close Shave\n",
       "Name: title, dtype: object"
      ]
     },
     "execution_count": 61,
     "metadata": {},
     "output_type": "execute_result"
    }
   ],
   "source": [
    "get_recommendations('Toy Story')"
   ]
  },
  {
   "cell_type": "code",
   "execution_count": 62,
   "metadata": {},
   "outputs": [
    {
     "data": {
      "text/plain": [
       "20145    Despicable Me 2\n",
       "5271     Stuart Little 2\n",
       "40892    Despicable Me 3\n",
       "18828     Wreck-It Ralph\n",
       "41898             Banana\n",
       "Name: title, dtype: object"
      ]
     },
     "execution_count": 62,
     "metadata": {},
     "output_type": "execute_result"
    }
   ],
   "source": [
    "get_recommendations('Minions')"
   ]
  },
  {
   "cell_type": "code",
   "execution_count": 63,
   "metadata": {},
   "outputs": [
    {
     "data": {
      "text/plain": [
       "6320     Lara Croft Tomb Raider: The Cradle of Life\n",
       "25040                                Thor: Ragnarok\n",
       "9904                                 Fantastic Four\n",
       "14579                                  Solomon Kane\n",
       "2502                                    Superman II\n",
       "Name: title, dtype: object"
      ]
     },
     "execution_count": 63,
     "metadata": {},
     "output_type": "execute_result"
    }
   ],
   "source": [
    "get_recommendations('Avatar')"
   ]
  },
  {
   "cell_type": "code",
   "execution_count": 64,
   "metadata": {},
   "outputs": [
    {
     "data": {
      "text/plain": [
       "2045      Return to Paradise\n",
       "342              Bitter Moon\n",
       "652                     Fear\n",
       "34752    Allyson Is Watching\n",
       "14595                Voyager\n",
       "Name: title, dtype: object"
      ]
     },
     "execution_count": 64,
     "metadata": {},
     "output_type": "execute_result"
    }
   ],
   "source": [
    "get_recommendations('Titanic')"
   ]
  },
  {
   "cell_type": "code",
   "execution_count": 65,
   "metadata": {},
   "outputs": [
    {
     "data": {
      "text/plain": [
       "2502                          Superman II\n",
       "10733                    Superman Returns\n",
       "30221                Atom Man vs Superman\n",
       "2504     Superman IV: The Quest for Peace\n",
       "20058                        Man of Steel\n",
       "Name: title, dtype: object"
      ]
     },
     "execution_count": 65,
     "metadata": {},
     "output_type": "execute_result"
    }
   ],
   "source": [
    "get_recommendations('Superman')"
   ]
  },
  {
   "cell_type": "code",
   "execution_count": 66,
   "metadata": {},
   "outputs": [
    {
     "data": {
      "text/plain": [
       "(42196, 3)"
      ]
     },
     "execution_count": 66,
     "metadata": {},
     "output_type": "execute_result"
    }
   ],
   "source": [
    "df.shape"
   ]
  },
  {
   "attachments": {},
   "cell_type": "markdown",
   "metadata": {},
   "source": [
    "el modelo funciona bastante bien hasta acá, pero demora demasiado en ejecutarse por lo que desde ya voy a abandonar la idea de aplicar un filtro para que considere las puntuaciones y la popularidad porque va a seguir sumando carga al modelo.\n",
    "\n",
    "para poder deployar y hacerlo funcionar en tiempo razonable voy a tener que reducir el tamaño de mi set de prueba, intentando seguir con las dos matrices pero entendiendo que lo que más tiempo le lleva al modelo es encontrarla similaritud entre ambas.\n",
    "ahora voy a reducir el dataset para corroborar si los tiempos de procesamiento mejoran."
   ]
  },
  {
   "cell_type": "code",
   "execution_count": 80,
   "metadata": {},
   "outputs": [],
   "source": [
    "#creo un nuevo dataset mas pequeño\n",
    "sm_df = df.sample(n=8000, random_state=42)\n",
    "\n",
    "#le reseteo el indice para evitar problemas\n",
    "sm_df=sm_df.reset_index(drop=True)"
   ]
  },
  {
   "cell_type": "code",
   "execution_count": 81,
   "metadata": {},
   "outputs": [
    {
     "data": {
      "text/html": [
       "<div>\n",
       "<style scoped>\n",
       "    .dataframe tbody tr th:only-of-type {\n",
       "        vertical-align: middle;\n",
       "    }\n",
       "\n",
       "    .dataframe tbody tr th {\n",
       "        vertical-align: top;\n",
       "    }\n",
       "\n",
       "    .dataframe thead th {\n",
       "        text-align: right;\n",
       "    }\n",
       "</style>\n",
       "<table border=\"1\" class=\"dataframe\">\n",
       "  <thead>\n",
       "    <tr style=\"text-align: right;\">\n",
       "      <th></th>\n",
       "      <th>title</th>\n",
       "      <th>texto_combinado</th>\n",
       "      <th>combined_features</th>\n",
       "    </tr>\n",
       "  </thead>\n",
       "  <tbody>\n",
       "    <tr>\n",
       "      <th>0</th>\n",
       "      <td>The Business of Fancydancing</td>\n",
       "      <td>seymour polatkin successful gay indian poet sp...</td>\n",
       "      <td>music   drama    music   drama  2000  english</td>\n",
       "    </tr>\n",
       "    <tr>\n",
       "      <th>1</th>\n",
       "      <td>Dollman</td>\n",
       "      <td>brick bardo traveller outer space forced land ...</td>\n",
       "      <td>action   comedy   crime   sciencefiction    ...</td>\n",
       "    </tr>\n",
       "    <tr>\n",
       "      <th>2</th>\n",
       "      <td>The Dukes</td>\n",
       "      <td>dukesa doo wop group top world 17 struggling s...</td>\n",
       "      <td>comedy   crime   drama   music    comedy   c...</td>\n",
       "    </tr>\n",
       "    <tr>\n",
       "      <th>3</th>\n",
       "      <td>Dragon Wars: D-War</td>\n",
       "      <td>based korean legend unknown creature return de...</td>\n",
       "      <td>fantasy   drama   horror   action   thriller...</td>\n",
       "    </tr>\n",
       "    <tr>\n",
       "      <th>4</th>\n",
       "      <td>Tom and Huck</td>\n",
       "      <td>mischievous young boy tom sawyer witness murde...</td>\n",
       "      <td>action   adventure   drama   family    actio...</td>\n",
       "    </tr>\n",
       "  </tbody>\n",
       "</table>\n",
       "</div>"
      ],
      "text/plain": [
       "                          title   \n",
       "0  The Business of Fancydancing  \\\n",
       "1                       Dollman   \n",
       "2                     The Dukes   \n",
       "3            Dragon Wars: D-War   \n",
       "4                  Tom and Huck   \n",
       "\n",
       "                                     texto_combinado   \n",
       "0  seymour polatkin successful gay indian poet sp...  \\\n",
       "1  brick bardo traveller outer space forced land ...   \n",
       "2  dukesa doo wop group top world 17 struggling s...   \n",
       "3  based korean legend unknown creature return de...   \n",
       "4  mischievous young boy tom sawyer witness murde...   \n",
       "\n",
       "                                   combined_features  \n",
       "0    music   drama    music   drama  2000  english    \n",
       "1    action   comedy   crime   sciencefiction    ...  \n",
       "2    comedy   crime   drama   music    comedy   c...  \n",
       "3    fantasy   drama   horror   action   thriller...  \n",
       "4    action   adventure   drama   family    actio...  "
      ]
     },
     "execution_count": 81,
     "metadata": {},
     "output_type": "execute_result"
    }
   ],
   "source": [
    "sm_df.head()"
   ]
  },
  {
   "cell_type": "code",
   "execution_count": 82,
   "metadata": {},
   "outputs": [
    {
     "data": {
      "text/plain": [
       "(8000, 30238)"
      ]
     },
     "execution_count": 82,
     "metadata": {},
     "output_type": "execute_result"
    }
   ],
   "source": [
    "# Crear el vectorizador TF-IDF. lo limito a 50000 para que no sea tan grande\n",
    "vectorizerSML = TfidfVectorizer(analyzer='word', stop_words='english', max_features=50000)\n",
    "\n",
    "# Aplicar el vectorizador a los datos de texto\n",
    "tfidf_matrixSML = vectorizerSML.fit_transform(sm_df['texto_combinado'])\n",
    "\n",
    "tfidf_matrixSML.shape"
   ]
  },
  {
   "cell_type": "code",
   "execution_count": 83,
   "metadata": {},
   "outputs": [],
   "source": [
    "#similaritud del coseno del TF-IDF: \n",
    "coseno_sim_textdSML = cosine_similarity(tfidf_matrixSML)\n",
    "\n",
    "#demora menos de 1s"
   ]
  },
  {
   "cell_type": "code",
   "execution_count": 84,
   "metadata": {},
   "outputs": [
    {
     "data": {
      "text/plain": [
       "(8000, 167)"
      ]
     },
     "execution_count": 84,
     "metadata": {},
     "output_type": "execute_result"
    }
   ],
   "source": [
    "#conteo de vectores con los features\n",
    "vectorizerSML_features = CountVectorizer(stop_words='english')\n",
    "feature_matrixSML = vectorizerSML_features.fit_transform(sm_df['combined_features'])\n",
    "\n",
    "feature_matrixSML.shape"
   ]
  },
  {
   "cell_type": "code",
   "execution_count": 85,
   "metadata": {},
   "outputs": [],
   "source": [
    "#similaritud del coseno\n",
    "coseno_sim_featuresSML = cosine_similarity(feature_matrixSML)\n",
    "\n",
    "#demora menos de 1s"
   ]
  },
  {
   "cell_type": "code",
   "execution_count": 86,
   "metadata": {},
   "outputs": [],
   "source": [
    "# Combina las similitudes utilizando algún método (por ejemplo, suma ponderada)\n",
    "combined_similaritySML = 0.6 * coseno_sim_textdSML + 0.4 * coseno_sim_featuresSML\n",
    "\n",
    "#demora menos de 1s"
   ]
  },
  {
   "cell_type": "code",
   "execution_count": 87,
   "metadata": {},
   "outputs": [],
   "source": [
    "def get_recommendationsSML(title):\n",
    "    titles = sm_df['title']\n",
    "    indices = pd.Series(sm_df.index, index=sm_df['title'])  \n",
    "    if title not in indices:\n",
    "        return \"La película no está en el dataset reducido\"\n",
    "    idx = indices[title]\n",
    "    sim_scores = list(enumerate(combined_similaritySML[idx]))\n",
    "    sim_scores = sorted(sim_scores, key=lambda x: x[1], reverse=True)\n",
    "    sim_scores = sim_scores[1:6]  # Obtenemos las 5 películas más similares\n",
    "    movie_indices = [i[0] for i in sim_scores]\n",
    "    \n",
    "    return df['title'].iloc[movie_indices]"
   ]
  },
  {
   "cell_type": "code",
   "execution_count": 88,
   "metadata": {},
   "outputs": [
    {
     "data": {
      "text/plain": [
       "6988               Love at Large\n",
       "563            Little Big League\n",
       "7384    Smiles of a Summer Night\n",
       "7141                     Godsend\n",
       "2982        The James Dean Story\n",
       "Name: title, dtype: object"
      ]
     },
     "execution_count": 88,
     "metadata": {},
     "output_type": "execute_result"
    }
   ],
   "source": [
    "get_recommendationsSML('The Dukes')"
   ]
  },
  {
   "cell_type": "code",
   "execution_count": 89,
   "metadata": {},
   "outputs": [
    {
     "data": {
      "text/plain": [
       "'La película no está en el dataset reducido'"
      ]
     },
     "execution_count": 89,
     "metadata": {},
     "output_type": "execute_result"
    }
   ],
   "source": [
    "get_recommendationsSML('Toy Story')"
   ]
  },
  {
   "cell_type": "code",
   "execution_count": 90,
   "metadata": {},
   "outputs": [],
   "source": [
    "#definicion final para API:\n",
    "def recomendacion(title:str):\n",
    "    '''Ingresas un nombre de pelicula y te recomienda las similares en una lista'''\n",
    "    indices = sm_df[sm_df['title'] == title]\n",
    "    if indices.empty:\n",
    "        return \"La película no está en el dataset reducido\"\n",
    "\n",
    "    idx = indices.index[0]\n",
    "    vectorizerTF = TfidfVectorizer(analyzer='word', stop_words='english')\n",
    "    tfidf_matrixTF = vectorizerTF.fit_transform(sm_df['texto_combinado'])\n",
    "    coseno_sim_text = cosine_similarity(tfidf_matrixTF)\n",
    "    vectorizer_features = CountVectorizer(stop_words='english')\n",
    "    feature_matrix = vectorizer_features.fit_transform(sm_df['combined_features'])\n",
    "    coseno_sim_features = cosine_similarity(feature_matrix)\n",
    "    combined_similarity = 0.6 * coseno_sim_text + 0.4 * coseno_sim_features\n",
    "    sim_scores = list(enumerate(combined_similarity[idx]))\n",
    "    sim_scores = sorted(sim_scores, key=lambda x: x[1], reverse=True)\n",
    "    sim_scores = sim_scores[1:6]  # Obtenemos las 5 películas más similares\n",
    "    movie_indices = [i[0] for i in sim_scores]\n",
    "    movie_titles = [sm_df['title'].iloc[i].title() for i in movie_indices]\n",
    "\n",
    "    return {'lista recomendada': movie_titles} "
   ]
  },
  {
   "cell_type": "code",
   "execution_count": 92,
   "metadata": {},
   "outputs": [
    {
     "data": {
      "text/plain": [
       "{'lista recomendada': [\"Mini'S First Time\",\n",
       "  'Girltrash: All Night Long',\n",
       "  'Taking Woodstock',\n",
       "  'Duets',\n",
       "  'Little Fish, Strange Pond']}"
      ]
     },
     "execution_count": 92,
     "metadata": {},
     "output_type": "execute_result"
    }
   ],
   "source": [
    "recomendacion('The Dukes')"
   ]
  },
  {
   "cell_type": "code",
   "execution_count": 93,
   "metadata": {},
   "outputs": [
    {
     "data": {
      "text/plain": [
       "'La película no está en el dataset reducido'"
      ]
     },
     "execution_count": 93,
     "metadata": {},
     "output_type": "execute_result"
    }
   ],
   "source": [
    "recomendacion('Toy Story')"
   ]
  },
  {
   "cell_type": "code",
   "execution_count": 94,
   "metadata": {},
   "outputs": [
    {
     "data": {
      "text/plain": [
       "{'lista recomendada': ['Evil Alien Conquerors',\n",
       "  'Crossworlds',\n",
       "  'Space Cop',\n",
       "  'The Hard Way',\n",
       "  'Darkman']}"
      ]
     },
     "execution_count": 94,
     "metadata": {},
     "output_type": "execute_result"
    }
   ],
   "source": [
    "recomendacion('Dollman')"
   ]
  }
 ],
 "metadata": {
  "kernelspec": {
   "display_name": "Python 3",
   "language": "python",
   "name": "python3"
  },
  "language_info": {
   "codemirror_mode": {
    "name": "ipython",
    "version": 3
   },
   "file_extension": ".py",
   "mimetype": "text/x-python",
   "name": "python",
   "nbconvert_exporter": "python",
   "pygments_lexer": "ipython3",
   "version": "3.9.13"
  },
  "orig_nbformat": 4
 },
 "nbformat": 4,
 "nbformat_minor": 2
}
